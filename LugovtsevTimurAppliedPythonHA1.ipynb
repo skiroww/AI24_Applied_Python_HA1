{
  "cells": [
    {
      "cell_type": "markdown",
      "metadata": {
        "id": "bVbHQbDDjw9i"
      },
      "source": [
        "## ДЗ 1 (ОБЯЗАТЕЛЬНОЕ): Анализ температурных данных и мониторинг текущей температуры через OpenWeatherMap API\n",
        "\n",
        "**Описание задания:**  \n",
        "Вы аналитик в компании, занимающейся изучением климатических изменений и мониторингом температур в разных городах. Вам нужно провести анализ исторических данных о температуре для выявления сезонных закономерностей и аномалий. Также необходимо подключить API OpenWeatherMap для получения текущей температуры в выбранных городах и сравнить её с историческими данными.\n",
        "\n",
        "\n",
        "### Цели задания:\n",
        "1. Провести **анализ временных рядов**, включая:\n",
        "   - Вычисление скользящего среднего и стандартного отклонения для сглаживания температурных колебаний.\n",
        "   - Определение аномалий на основе отклонений температуры от $ \\text{скользящее среднее} \\pm 2\\sigma $.\n",
        "   - Построение долгосрочных трендов изменения температуры.\n",
        "   - Любые дополнительные исследования будут вам в плюс.\n",
        "\n",
        "2. Осуществить **мониторинг текущей температуры**:\n",
        "   - Получить текущую температуру через OpenWeatherMap API.\n",
        "   - Сравнить её с историческим нормальным диапазоном для текущего сезона.\n",
        "\n",
        "3. Разработать **интерактивное приложение**:\n",
        "   - Дать пользователю возможность выбрать город.\n",
        "   - Отобразить результаты анализа температур, включая временные ряды, сезонные профили и аномалии.\n",
        "   - Провести анализ текущей температуры в контексте исторических данных.\n",
        "\n",
        "\n",
        "### Описание данных\n",
        "Исторические данные о температуре содержатся в файле `temperature_data.csv`, включают:\n",
        "  - `city`: Название города.\n",
        "  - `timestamp`: Дата (с шагом в 1 день).\n",
        "  - `temperature`: Среднесуточная температура (в °C).\n",
        "  - `season`: Сезон года (зима, весна, лето, осень).\n",
        "\n",
        "Код для генерации файла вы найдете ниже.\n",
        "\n",
        "### Этапы выполнения\n",
        "\n",
        "1. **Анализ исторических данных**:\n",
        "   - Вычислить **скользящее среднее** температуры с окном в 30 дней для сглаживания краткосрочных колебаний.\n",
        "   - Рассчитать среднюю температуру и стандартное отклонение для каждого сезона в каждом городе.\n",
        "   - Выявить аномалии, где температура выходит за пределы $ \\text{среднее} \\pm 2\\sigma $.\n",
        "   - Попробуйте распараллелить проведение этого анализа. Сравните скорость выполнения анализа с распараллеливанием и без него.\n",
        "\n",
        "2. **Мониторинг текущей температуры**:\n",
        "   - Подключить OpenWeatherMap API для получения текущей температуры города. Для получения API Key (бесплатно) надо зарегистрироваться на сайте. Обратите внимание, что API Key может активироваться только через 2-3 часа, это нормально. Посему получите ключ заранее.\n",
        "   - Получить текущую температуру для выбранного города через OpenWeatherMap API.\n",
        "   - Определить, является ли текущая температура нормальной, исходя из исторических данных для текущего сезона.\n",
        "   - Данные на самом деле не совсем реальные (сюрпрайз). Поэтому на момент эксперимента погода в Берлине, Каире и Дубае была в рамках нормы, а в Пекине и Москве аномальная. Протестируйте свое решение для разных городов.\n",
        "   - Попробуйте для получения текущей температуры использовать синхронные и асинхронные методы. Что здесь лучше использовать?\n",
        "\n",
        "3. **Создание приложения на Streamlit**:\n",
        "   - Добавить интерфейс для загрузки файла с историческими данными.\n",
        "   - Добавить интерфейс для выбора города (из выпадающего списка).\n",
        "   - Добавить форму для ввода API-ключа OpenWeatherMap. Когда он не введен, данные для текущей погоды не показываются. Если ключ некорректный, выведите на экран ошибку (должно приходить `{\"cod\":401, \"message\": \"Invalid API key. Please see https://openweathermap.org/faq#error401 for more info.\"}`).\n",
        "   - Отобразить:\n",
        "     - Описательную статистику по историческим данным для города, можно добавить визуализации.\n",
        "     - Временной ряд температур с выделением аномалий (например, точками другого цвета).\n",
        "     - Сезонные профили с указанием среднего и стандартного отклонения.\n",
        "   - Вывести текущую температуру через API и указать, нормальна ли она для сезона.\n",
        "\n",
        "### Критерии оценивания\n",
        "\n",
        "- Корректное проведение анализа данных – 1 балл.\n",
        "- Исследование распараллеливания анализа – 1 балл.\n",
        "- Корректный поиск аномалий – 1 балл.\n",
        "- Подключение к API и корректность выполнения запроса – 1 балл.\n",
        "- Проведение эксперимента с синхронным и асинхронным способом запроса к API – 1 балл.\n",
        "- Создание интерфейса приложения streamlit в соответствии с описанием – 3 балла.\n",
        "- Корректное отображение графиков и статистик, а также сезонных профилей – 1 балл.\n",
        "- Корректный вывод текущей температуры в выбранном городе и проведение проверки на ее аномальность – 1 балл.\n",
        "- Любая дополнительная функциональность приветствуется и оценивается бонусными баллами (не более 2 в сумме) на усмотрение проверяющего.\n",
        "\n",
        "### Формат сдачи домашнего задания\n",
        "\n",
        "Решение нужно развернуть в Streamlit Cloud (бесплатно)\n",
        "\n",
        "*   Создаем новый репозиторий на GitHub.  \n",
        "*   Загружаем проект.\n",
        "*   Создаем аккаунт в [Streamlit Cloud](https://streamlit.io/cloud).\n",
        "*   Авторизуемся в Streamlit Cloud.\n",
        "*   Создаем новое приложение в Streamlit Cloud и подключаем GitHub-репозиторий.\n",
        "*   Deploy!\n",
        "\n",
        "Сдать в форму необходимо:\n",
        "1. Ссылку на развернутое в Streamlit Cloud приложение.\n",
        "2. Ссылку на код. Все выводы про, например, использование параллельности/асинхронности опишите в комментариях.\n",
        "\n",
        "Не забудьте удалить ключ API и иную чувствительную информацию.\n",
        "\n",
        "### Полезные ссылки\n",
        "*   [Оформление задачи Титаник на Streamlit](https://github.com/evgpat/streamlit_demo)\n",
        "*   [Документация Streamlit](https://docs.streamlit.io/)\n",
        "*   [Блог о Streamlit](https://blog.streamlit.io/)"
      ]
    },
    {
      "cell_type": "code",
      "execution_count": 1,
      "metadata": {
        "id": "SsrwTMhRj6dK"
      },
      "outputs": [],
      "source": [
        "# import pandas as pd\n",
        "# import numpy as np\n",
        "\n",
        "# # Реальные средние температуры (примерные данные) для городов по сезонам\n",
        "# seasonal_temperatures = {\n",
        "#     \"New York\": {\"winter\": 0, \"spring\": 10, \"summer\": 25, \"autumn\": 15},\n",
        "#     \"London\": {\"winter\": 5, \"spring\": 11, \"summer\": 18, \"autumn\": 12},\n",
        "#     \"Paris\": {\"winter\": 4, \"spring\": 12, \"summer\": 20, \"autumn\": 13},\n",
        "#     \"Tokyo\": {\"winter\": 6, \"spring\": 15, \"summer\": 27, \"autumn\": 18},\n",
        "#     \"Moscow\": {\"winter\": -10, \"spring\": 5, \"summer\": 18, \"autumn\": 8},\n",
        "#     \"Sydney\": {\"winter\": 12, \"spring\": 18, \"summer\": 25, \"autumn\": 20},\n",
        "#     \"Berlin\": {\"winter\": 0, \"spring\": 10, \"summer\": 20, \"autumn\": 11},\n",
        "#     \"Beijing\": {\"winter\": -2, \"spring\": 13, \"summer\": 27, \"autumn\": 16},\n",
        "#     \"Rio de Janeiro\": {\"winter\": 20, \"spring\": 25, \"summer\": 30, \"autumn\": 25},\n",
        "#     \"Dubai\": {\"winter\": 20, \"spring\": 30, \"summer\": 40, \"autumn\": 30},\n",
        "#     \"Los Angeles\": {\"winter\": 15, \"spring\": 18, \"summer\": 25, \"autumn\": 20},\n",
        "#     \"Singapore\": {\"winter\": 27, \"spring\": 28, \"summer\": 28, \"autumn\": 27},\n",
        "#     \"Mumbai\": {\"winter\": 25, \"spring\": 30, \"summer\": 35, \"autumn\": 30},\n",
        "#     \"Cairo\": {\"winter\": 15, \"spring\": 25, \"summer\": 35, \"autumn\": 25},\n",
        "#     \"Mexico City\": {\"winter\": 12, \"spring\": 18, \"summer\": 20, \"autumn\": 15},\n",
        "# }\n",
        "\n",
        "# # Сопоставление месяцев с сезонами\n",
        "# month_to_season = {12: \"winter\", 1: \"winter\", 2: \"winter\",\n",
        "#                    3: \"spring\", 4: \"spring\", 5: \"spring\",\n",
        "#                    6: \"summer\", 7: \"summer\", 8: \"summer\",\n",
        "#                    9: \"autumn\", 10: \"autumn\", 11: \"autumn\"}\n",
        "\n",
        "# # Генерация данных о температуре\n",
        "# def generate_realistic_temperature_data(cities, num_years=10):\n",
        "#     dates = pd.date_range(start=\"2010-01-01\", periods=365 * num_years, freq=\"D\")\n",
        "#     data = []\n",
        "\n",
        "#     for city in cities:\n",
        "#         for date in dates:\n",
        "#             season = month_to_season[date.month]\n",
        "#             mean_temp = seasonal_temperatures[city][season]\n",
        "#             # Добавляем случайное отклонение\n",
        "#             temperature = np.random.normal(loc=mean_temp, scale=5)\n",
        "#             data.append({\"city\": city, \"timestamp\": date, \"temperature\": temperature})\n",
        "\n",
        "#     df = pd.DataFrame(data)\n",
        "#     df['season'] = df['timestamp'].dt.month.map(lambda x: month_to_season[x])\n",
        "#     return df\n",
        "\n",
        "# # Генерация данных\n",
        "# data = generate_realistic_temperature_data(list(seasonal_temperatures.keys()))\n",
        "# data.to_csv('temperature_data.csv', index=False)\n"
      ]
    },
    {
      "cell_type": "code",
      "execution_count": 9,
      "metadata": {},
      "outputs": [],
      "source": [
        "import nest_asyncio\n",
        "import pandas as pd\n",
        "import numpy as np\n",
        "nest_asyncio.apply()"
      ]
    },
    {
      "cell_type": "code",
      "execution_count": 10,
      "metadata": {},
      "outputs": [],
      "source": [
        "df = pd.read_csv(\"temperature_data.csv\")\n",
        "df = df.sort_values(by=[\"city\", \"timestamp\"]).reset_index(drop=True)"
      ]
    },
    {
      "cell_type": "markdown",
      "metadata": {},
      "source": [
        "Часть 1 - скользящее среднее за 30 дней. Думаю тут можно посмотреть, параллельно или последолвательно делать операции. \n",
        "\n",
        "Мой предикт - из-за того, что слишком мало данных и таска в целом оч простая, то параллелить не надо и создание джоб займет больше времени)"
      ]
    },
    {
      "cell_type": "code",
      "execution_count": 11,
      "metadata": {},
      "outputs": [],
      "source": [
        "import time\n",
        "from typing import Tuple\n",
        "# последовательное\n",
        "def calculate_rolling_mean_sequential(df: pd.DataFrame, window: int = 30) -> Tuple[pd.DataFrame, float]:\n",
        "    start_time = time.time()\n",
        "    df['rolling_mean'] = df.groupby('city')['temperature'].transform(lambda x: x.rolling(window=window).mean())\n",
        "    end_time = time.time()  \n",
        "    elapsed_time = end_time - start_time \n",
        "    return df, elapsed_time\n",
        "\n"
      ]
    },
    {
      "cell_type": "code",
      "execution_count": 12,
      "metadata": {},
      "outputs": [],
      "source": [
        "df, t = calculate_rolling_mean_sequential(df, 30)"
      ]
    },
    {
      "cell_type": "code",
      "execution_count": 13,
      "metadata": {},
      "outputs": [],
      "source": [
        "import pandas as pd\n",
        "from joblib import Parallel, delayed\n",
        "\n",
        "def add_rolling_mean(city_data: pd.DataFrame, window: int = 30) -> Tuple[pd.DataFrame, float]:\n",
        "    city_data['rolling_mean'] = city_data['temperature'].rolling(window=window).mean()\n",
        "    return city_data\n",
        "\n",
        "def calculate_rolling_mean_parallel(df: pd.DataFrame, window: int = 30, n_jobs: int = 2) -> pd.DataFrame:\n",
        "    start_time = time.time()\n",
        "    out = Parallel(n_jobs=n_jobs)(delayed(add_rolling_mean)(df.loc[df.city == city], window) for city in df[\"city\"].unique())\n",
        "    result_df = pd.concat(out)\n",
        "    end_time = time.time()  \n",
        "    elapsed_time = end_time - start_time \n",
        "    return result_df, elapsed_time\n"
      ]
    },
    {
      "cell_type": "code",
      "execution_count": 14,
      "metadata": {},
      "outputs": [],
      "source": [
        "df, t_2 = calculate_rolling_mean_parallel(df = df, window = 30, n_jobs = 4)"
      ]
    },
    {
      "cell_type": "code",
      "execution_count": 15,
      "metadata": {},
      "outputs": [
        {
          "name": "stdout",
          "output_type": "stream",
          "text": [
            "Время выполнения для последовательного случая: 0.011967658996582031с \n",
            "Время выполнения для параллельного случая: 0.8198404312133789c\n"
          ]
        }
      ],
      "source": [
        "print(f'Время выполнения для последовательного случая: {t}с \\nВремя выполнения для параллельного случая: {t_2}c')"
      ]
    },
    {
      "cell_type": "markdown",
      "metadata": {},
      "source": [
        "Ну, в целом я так и говорил)\n",
        "Следующим шагом посчитаем аномалии\n",
        "\n",
        "Как я понял, тут мы также должны сравнить последовательное и параллельное вычисление"
      ]
    },
    {
      "cell_type": "code",
      "execution_count": 16,
      "metadata": {},
      "outputs": [],
      "source": [
        "# mean + std для каждого города и сезона отдельно \n",
        "start_time = time.time()\n",
        "city_season_stats = df.groupby([\"city\", \"season\"], as_index=False).\\\n",
        "    agg(temperature_mean=('temperature', 'mean'), temperature_std=('temperature', 'std'))\n",
        "\n",
        "df = df.merge(city_season_stats, on=[\"city\", \"season\"], how=\"left\")\n",
        "end_time = time.time()\n",
        "t_3 = end_time - start_time"
      ]
    },
    {
      "cell_type": "code",
      "execution_count": 21,
      "metadata": {},
      "outputs": [],
      "source": [
        "def compute_city_season_stats(df: pd.DataFrame, n_jobs = -1) -> Tuple[pd.DataFrame, float]:\n",
        "    def compute_stats(group):\n",
        "        return pd.Series({\n",
        "            'temperature_mean': group['temperature'].mean(),\n",
        "            'temperature_std': group['temperature'].std()\n",
        "        })\n",
        "    start_time = time.time()\n",
        "    grouped = df.groupby([\"city\", \"season\"])\n",
        "\n",
        "    city_season_stats = Parallel(n_jobs = n_jobs)(delayed(compute_stats)(group) for name, group in grouped)\n",
        "    city_season_stats = pd.DataFrame(city_season_stats)\n",
        "    city_season_stats['city'] = [name[0] for name in grouped.groups.keys()]\n",
        "    city_season_stats['season'] = [name[1] for name in grouped.groups.keys()]\n",
        "    end_time = time.time()\n",
        "    elapsed_time = end_time - start_time\n",
        "    return city_season_stats, elapsed_time"
      ]
    },
    {
      "cell_type": "code",
      "execution_count": 26,
      "metadata": {},
      "outputs": [],
      "source": [
        "gg, t_4 = compute_city_season_stats(df, 2)"
      ]
    },
    {
      "cell_type": "code",
      "execution_count": 27,
      "metadata": {},
      "outputs": [
        {
          "data": {
            "text/html": [
              "<div>\n",
              "<style scoped>\n",
              "    .dataframe tbody tr th:only-of-type {\n",
              "        vertical-align: middle;\n",
              "    }\n",
              "\n",
              "    .dataframe tbody tr th {\n",
              "        vertical-align: top;\n",
              "    }\n",
              "\n",
              "    .dataframe thead th {\n",
              "        text-align: right;\n",
              "    }\n",
              "</style>\n",
              "<table border=\"1\" class=\"dataframe\">\n",
              "  <thead>\n",
              "    <tr style=\"text-align: right;\">\n",
              "      <th></th>\n",
              "      <th>temperature_mean</th>\n",
              "      <th>temperature_std</th>\n",
              "      <th>city</th>\n",
              "      <th>season</th>\n",
              "    </tr>\n",
              "  </thead>\n",
              "  <tbody>\n",
              "    <tr>\n",
              "      <th>0</th>\n",
              "      <td>15.963053</td>\n",
              "      <td>5.057114</td>\n",
              "      <td>Beijing</td>\n",
              "      <td>autumn</td>\n",
              "    </tr>\n",
              "    <tr>\n",
              "      <th>1</th>\n",
              "      <td>13.293879</td>\n",
              "      <td>5.008433</td>\n",
              "      <td>Beijing</td>\n",
              "      <td>spring</td>\n",
              "    </tr>\n",
              "    <tr>\n",
              "      <th>2</th>\n",
              "      <td>26.921842</td>\n",
              "      <td>4.895117</td>\n",
              "      <td>Beijing</td>\n",
              "      <td>summer</td>\n",
              "    </tr>\n",
              "    <tr>\n",
              "      <th>3</th>\n",
              "      <td>-1.996362</td>\n",
              "      <td>5.074827</td>\n",
              "      <td>Beijing</td>\n",
              "      <td>winter</td>\n",
              "    </tr>\n",
              "    <tr>\n",
              "      <th>4</th>\n",
              "      <td>11.351334</td>\n",
              "      <td>5.177067</td>\n",
              "      <td>Berlin</td>\n",
              "      <td>autumn</td>\n",
              "    </tr>\n",
              "    <tr>\n",
              "      <th>5</th>\n",
              "      <td>9.723205</td>\n",
              "      <td>5.095266</td>\n",
              "      <td>Berlin</td>\n",
              "      <td>spring</td>\n",
              "    </tr>\n",
              "    <tr>\n",
              "      <th>6</th>\n",
              "      <td>20.109502</td>\n",
              "      <td>4.831544</td>\n",
              "      <td>Berlin</td>\n",
              "      <td>summer</td>\n",
              "    </tr>\n",
              "    <tr>\n",
              "      <th>7</th>\n",
              "      <td>0.053618</td>\n",
              "      <td>4.790704</td>\n",
              "      <td>Berlin</td>\n",
              "      <td>winter</td>\n",
              "    </tr>\n",
              "    <tr>\n",
              "      <th>8</th>\n",
              "      <td>25.371703</td>\n",
              "      <td>5.117757</td>\n",
              "      <td>Cairo</td>\n",
              "      <td>autumn</td>\n",
              "    </tr>\n",
              "    <tr>\n",
              "      <th>9</th>\n",
              "      <td>24.923078</td>\n",
              "      <td>5.076493</td>\n",
              "      <td>Cairo</td>\n",
              "      <td>spring</td>\n",
              "    </tr>\n",
              "  </tbody>\n",
              "</table>\n",
              "</div>"
            ],
            "text/plain": [
              "   temperature_mean  temperature_std     city  season\n",
              "0         15.963053         5.057114  Beijing  autumn\n",
              "1         13.293879         5.008433  Beijing  spring\n",
              "2         26.921842         4.895117  Beijing  summer\n",
              "3         -1.996362         5.074827  Beijing  winter\n",
              "4         11.351334         5.177067   Berlin  autumn\n",
              "5          9.723205         5.095266   Berlin  spring\n",
              "6         20.109502         4.831544   Berlin  summer\n",
              "7          0.053618         4.790704   Berlin  winter\n",
              "8         25.371703         5.117757    Cairo  autumn\n",
              "9         24.923078         5.076493    Cairo  spring"
            ]
          },
          "execution_count": 27,
          "metadata": {},
          "output_type": "execute_result"
        }
      ],
      "source": [
        "gg.head(10)"
      ]
    },
    {
      "cell_type": "code",
      "execution_count": 28,
      "metadata": {},
      "outputs": [
        {
          "name": "stdout",
          "output_type": "stream",
          "text": [
            "Время выполнения для последовательного случая: 0.02792525291442871с \n",
            "Время выполнения для параллельного случая: 1.0467414855957031c\n"
          ]
        }
      ],
      "source": [
        "print(f'Время выполнения для последовательного случая: {t_3}с \\nВремя выполнения для параллельного случая: {t_4}c')"
      ]
    },
    {
      "cell_type": "code",
      "execution_count": 26,
      "metadata": {},
      "outputs": [],
      "source": [
        "# приношу ГЛУБОЧАЙШИЕ извенения за спагетти код...\n",
        "# я надеюсь тут не надо было тоже параллелить...\n",
        "df[\"is_anomaly\"] = 0\n",
        "df.loc[((df[\"temperature\"] < df.temperature_mean - 2 * df.temperature_std) |(df[\"temperature\"] > df.temperature_mean + 2 * df.temperature_std)), \"is_anomaly\"] = 1"
      ]
    },
    {
      "cell_type": "code",
      "execution_count": 25,
      "metadata": {},
      "outputs": [
        {
          "data": {
            "text/html": [
              "<div>\n",
              "<style scoped>\n",
              "    .dataframe tbody tr th:only-of-type {\n",
              "        vertical-align: middle;\n",
              "    }\n",
              "\n",
              "    .dataframe tbody tr th {\n",
              "        vertical-align: top;\n",
              "    }\n",
              "\n",
              "    .dataframe thead th {\n",
              "        text-align: right;\n",
              "    }\n",
              "</style>\n",
              "<table border=\"1\" class=\"dataframe\">\n",
              "  <thead>\n",
              "    <tr style=\"text-align: right;\">\n",
              "      <th></th>\n",
              "      <th>city</th>\n",
              "      <th>timestamp</th>\n",
              "      <th>temperature</th>\n",
              "      <th>season</th>\n",
              "      <th>rolling_mean</th>\n",
              "      <th>temperature_mean</th>\n",
              "      <th>temperature_std</th>\n",
              "      <th>is_anomaly</th>\n",
              "    </tr>\n",
              "  </thead>\n",
              "  <tbody>\n",
              "    <tr>\n",
              "      <th>34</th>\n",
              "      <td>Beijing</td>\n",
              "      <td>2010-02-04</td>\n",
              "      <td>14.748935</td>\n",
              "      <td>winter</td>\n",
              "      <td>-1.676972</td>\n",
              "      <td>-1.996362</td>\n",
              "      <td>5.074827</td>\n",
              "      <td>1</td>\n",
              "    </tr>\n",
              "    <tr>\n",
              "      <th>55</th>\n",
              "      <td>Beijing</td>\n",
              "      <td>2010-02-25</td>\n",
              "      <td>-12.296174</td>\n",
              "      <td>winter</td>\n",
              "      <td>-1.660752</td>\n",
              "      <td>-1.996362</td>\n",
              "      <td>5.074827</td>\n",
              "      <td>1</td>\n",
              "    </tr>\n",
              "    <tr>\n",
              "      <th>105</th>\n",
              "      <td>Beijing</td>\n",
              "      <td>2010-04-16</td>\n",
              "      <td>24.263844</td>\n",
              "      <td>spring</td>\n",
              "      <td>14.775246</td>\n",
              "      <td>13.293879</td>\n",
              "      <td>5.008433</td>\n",
              "      <td>1</td>\n",
              "    </tr>\n",
              "    <tr>\n",
              "      <th>107</th>\n",
              "      <td>Beijing</td>\n",
              "      <td>2010-04-18</td>\n",
              "      <td>-0.487481</td>\n",
              "      <td>spring</td>\n",
              "      <td>14.513252</td>\n",
              "      <td>13.293879</td>\n",
              "      <td>5.008433</td>\n",
              "      <td>1</td>\n",
              "    </tr>\n",
              "    <tr>\n",
              "      <th>124</th>\n",
              "      <td>Beijing</td>\n",
              "      <td>2010-05-05</td>\n",
              "      <td>24.264878</td>\n",
              "      <td>spring</td>\n",
              "      <td>13.277249</td>\n",
              "      <td>13.293879</td>\n",
              "      <td>5.008433</td>\n",
              "      <td>1</td>\n",
              "    </tr>\n",
              "    <tr>\n",
              "      <th>...</th>\n",
              "      <td>...</td>\n",
              "      <td>...</td>\n",
              "      <td>...</td>\n",
              "      <td>...</td>\n",
              "      <td>...</td>\n",
              "      <td>...</td>\n",
              "      <td>...</td>\n",
              "      <td>...</td>\n",
              "    </tr>\n",
              "    <tr>\n",
              "      <th>54701</th>\n",
              "      <td>Tokyo</td>\n",
              "      <td>2019-11-11</td>\n",
              "      <td>4.736174</td>\n",
              "      <td>autumn</td>\n",
              "      <td>18.534091</td>\n",
              "      <td>17.952023</td>\n",
              "      <td>5.037364</td>\n",
              "      <td>1</td>\n",
              "    </tr>\n",
              "    <tr>\n",
              "      <th>54732</th>\n",
              "      <td>Tokyo</td>\n",
              "      <td>2019-12-12</td>\n",
              "      <td>-8.162844</td>\n",
              "      <td>winter</td>\n",
              "      <td>14.623220</td>\n",
              "      <td>5.607023</td>\n",
              "      <td>5.093227</td>\n",
              "      <td>1</td>\n",
              "    </tr>\n",
              "    <tr>\n",
              "      <th>54735</th>\n",
              "      <td>Tokyo</td>\n",
              "      <td>2019-12-15</td>\n",
              "      <td>-8.316906</td>\n",
              "      <td>winter</td>\n",
              "      <td>12.998559</td>\n",
              "      <td>5.607023</td>\n",
              "      <td>5.093227</td>\n",
              "      <td>1</td>\n",
              "    </tr>\n",
              "    <tr>\n",
              "      <th>54737</th>\n",
              "      <td>Tokyo</td>\n",
              "      <td>2019-12-17</td>\n",
              "      <td>16.295217</td>\n",
              "      <td>winter</td>\n",
              "      <td>12.526559</td>\n",
              "      <td>5.607023</td>\n",
              "      <td>5.093227</td>\n",
              "      <td>1</td>\n",
              "    </tr>\n",
              "    <tr>\n",
              "      <th>54740</th>\n",
              "      <td>Tokyo</td>\n",
              "      <td>2019-12-20</td>\n",
              "      <td>15.878870</td>\n",
              "      <td>winter</td>\n",
              "      <td>11.210931</td>\n",
              "      <td>5.607023</td>\n",
              "      <td>5.093227</td>\n",
              "      <td>1</td>\n",
              "    </tr>\n",
              "  </tbody>\n",
              "</table>\n",
              "<p>2490 rows × 8 columns</p>\n",
              "</div>"
            ],
            "text/plain": [
              "          city   timestamp  temperature  season  rolling_mean  \\\n",
              "34     Beijing  2010-02-04    14.748935  winter     -1.676972   \n",
              "55     Beijing  2010-02-25   -12.296174  winter     -1.660752   \n",
              "105    Beijing  2010-04-16    24.263844  spring     14.775246   \n",
              "107    Beijing  2010-04-18    -0.487481  spring     14.513252   \n",
              "124    Beijing  2010-05-05    24.264878  spring     13.277249   \n",
              "...        ...         ...          ...     ...           ...   \n",
              "54701    Tokyo  2019-11-11     4.736174  autumn     18.534091   \n",
              "54732    Tokyo  2019-12-12    -8.162844  winter     14.623220   \n",
              "54735    Tokyo  2019-12-15    -8.316906  winter     12.998559   \n",
              "54737    Tokyo  2019-12-17    16.295217  winter     12.526559   \n",
              "54740    Tokyo  2019-12-20    15.878870  winter     11.210931   \n",
              "\n",
              "       temperature_mean  temperature_std  is_anomaly  \n",
              "34            -1.996362         5.074827           1  \n",
              "55            -1.996362         5.074827           1  \n",
              "105           13.293879         5.008433           1  \n",
              "107           13.293879         5.008433           1  \n",
              "124           13.293879         5.008433           1  \n",
              "...                 ...              ...         ...  \n",
              "54701         17.952023         5.037364           1  \n",
              "54732          5.607023         5.093227           1  \n",
              "54735          5.607023         5.093227           1  \n",
              "54737          5.607023         5.093227           1  \n",
              "54740          5.607023         5.093227           1  \n",
              "\n",
              "[2490 rows x 8 columns]"
            ]
          },
          "execution_count": 25,
          "metadata": {},
          "output_type": "execute_result"
        }
      ],
      "source": [
        "# проверим что работает)\n",
        "df[df.is_anomaly == 1]"
      ]
    },
    {
      "cell_type": "markdown",
      "metadata": {},
      "source": [
        "Теперь к OpenWeather API"
      ]
    },
    {
      "cell_type": "code",
      "execution_count": 30,
      "metadata": {},
      "outputs": [],
      "source": [
        "link = \"https://api.openweathermap.org/data/2.5/weather?q={city}&units=metric&appid={API_KEY}\""
      ]
    },
    {
      "cell_type": "code",
      "execution_count": 53,
      "metadata": {},
      "outputs": [],
      "source": [
        "from pprint import pprint\n",
        "import requests\n",
        "import json\n",
        "def show_current_weather(city = 'Moscow'):\n",
        "    resp = requests.get(link.format(city=city, API_KEY='api_key'))\n",
        "    return json.loads(resp.text)"
      ]
    },
    {
      "cell_type": "code",
      "execution_count": 54,
      "metadata": {},
      "outputs": [
        {
          "name": "stdout",
          "output_type": "stream",
          "text": [
            "{'base': 'stations',\n",
            " 'clouds': {'all': 26},\n",
            " 'cod': 200,\n",
            " 'coord': {'lat': 55.7522, 'lon': 37.6156},\n",
            " 'dt': 1734811052,\n",
            " 'id': 524901,\n",
            " 'main': {'feels_like': -6.56,\n",
            "          'grnd_level': 994,\n",
            "          'humidity': 95,\n",
            "          'pressure': 1015,\n",
            "          'sea_level': 1015,\n",
            "          'temp': -2.76,\n",
            "          'temp_max': -2.76,\n",
            "          'temp_min': -3.71},\n",
            " 'name': 'Moscow',\n",
            " 'sys': {'country': 'RU',\n",
            "         'id': 9027,\n",
            "         'sunrise': 1734760662,\n",
            "         'sunset': 1734785862,\n",
            "         'type': 1},\n",
            " 'timezone': 10800,\n",
            " 'visibility': 10000,\n",
            " 'weather': [{'description': 'scattered clouds',\n",
            "              'icon': '03n',\n",
            "              'id': 802,\n",
            "              'main': 'Clouds'}],\n",
            " 'wind': {'deg': 217, 'gust': 8.63, 'speed': 2.75}}\n"
          ]
        }
      ],
      "source": [
        "pprint(show_current_weather('Moscow'))"
      ]
    },
    {
      "cell_type": "code",
      "execution_count": 55,
      "metadata": {},
      "outputs": [],
      "source": [
        "import requests\n",
        "import json\n",
        "\n",
        "def display_weather_with_anomalies(city_name=None):\n",
        "    if city_name is None:\n",
        "        city_name = df[\"city\"].unique()[0] \n",
        "    response = requests.get(link.format(city=city_name, API_KEY='api_key'))\n",
        "    current_temperature = json.loads(response.text)[\"main\"][\"temp\"]\n",
        "    winter_stats = city_season_stats.loc[\n",
        "        (city_season_stats.city == city_name) & (city_season_stats.season == \"winter\"),[\"temperature_mean\", \"temperature_std\"]].values[0]\n",
        "    mean_temp, std_temp = winter_stats\n",
        "    anomaly_status = \"нету)\"\n",
        "    if (current_temperature > mean_temp + 2 * std_temp) or (current_temperature < mean_temp - 2 * std_temp):\n",
        "        anomaly_status = \"есть)\"\n",
        "    print(city_name, '\\n',f\"What is normal for today: ({mean_temp - 2 * std_temp} °C, {mean_temp + 2 * std_temp} °C)\" \n",
        "          , '\\n', f\"Current temperature: {current_temperature} °C, Anomaly: {anomaly_status}\")\n",
        " \n"
      ]
    },
    {
      "cell_type": "code",
      "execution_count": 56,
      "metadata": {},
      "outputs": [
        {
          "name": "stdout",
          "output_type": "stream",
          "text": [
            "Moscow \n",
            " What is normal for today: (-19.98089993758747 °C, 0.17213841975978283 °C) \n",
            " Current temperature: -3.76 °C, Anomaly: нету)\n"
          ]
        }
      ],
      "source": [
        "display_weather_with_anomalies('Moscow')"
      ]
    },
    {
      "cell_type": "markdown",
      "metadata": {},
      "source": [
        "Не поверите - ни 1 город щас не аномальный:)\n",
        "\n",
        "Финальная часть Марлезонского балета - синк и асинк.l."
      ]
    },
    {
      "cell_type": "code",
      "execution_count": 58,
      "metadata": {},
      "outputs": [
        {
          "name": "stdout",
          "output_type": "stream",
          "text": [
            "2.1507821083068848\n"
          ]
        }
      ],
      "source": [
        "def get_weather_synch(city):\n",
        "    response = requests.get(link.format(city=city, API_KEY='api_key'))\n",
        "    return json.loads(response.text)\n",
        "\n",
        "start_time = time.time()\n",
        "for city in df.city.unique():\n",
        "    get_weather_synch(city)\n",
        "end_time = time.time()\n",
        "print(end_time - start_time)"
      ]
    },
    {
      "cell_type": "code",
      "execution_count": 60,
      "metadata": {},
      "outputs": [],
      "source": [
        "# %pip install aiohttp"
      ]
    },
    {
      "cell_type": "code",
      "execution_count": 61,
      "metadata": {},
      "outputs": [],
      "source": [
        "import aiohttp\n",
        "async def get_weather_asynch(city):\n",
        "    l = link.format(city=city, API_KEY='api_key')\n",
        "    async with aiohttp.ClientSession() as session:\n",
        "        async with session.get(l) as response:\n",
        "                content = await response.text()\n",
        "                return json.loads(content)"
      ]
    },
    {
      "cell_type": "code",
      "execution_count": 63,
      "metadata": {},
      "outputs": [],
      "source": [
        "import asyncio\n",
        "start_time = time.time()\n",
        "await asyncio.gather(*[get_weather_asynch(city) for city in df.city.unique()])\n",
        "end_time = time.time()"
      ]
    },
    {
      "cell_type": "code",
      "execution_count": 64,
      "metadata": {},
      "outputs": [
        {
          "name": "stdout",
          "output_type": "stream",
          "text": [
            "0.15957331657409668\n"
          ]
        }
      ],
      "source": [
        "print(end_time - start_time)"
      ]
    },
    {
      "cell_type": "markdown",
      "metadata": {},
      "source": [
        "Асинхронность намного намного быстрее!"
      ]
    },
    {
      "cell_type": "markdown",
      "metadata": {},
      "source": []
    }
  ],
  "metadata": {
    "colab": {
      "provenance": []
    },
    "kernelspec": {
      "display_name": "base",
      "language": "python",
      "name": "python3"
    },
    "language_info": {
      "codemirror_mode": {
        "name": "ipython",
        "version": 3
      },
      "file_extension": ".py",
      "mimetype": "text/x-python",
      "name": "python",
      "nbconvert_exporter": "python",
      "pygments_lexer": "ipython3",
      "version": "3.10.10"
    }
  },
  "nbformat": 4,
  "nbformat_minor": 0
}
